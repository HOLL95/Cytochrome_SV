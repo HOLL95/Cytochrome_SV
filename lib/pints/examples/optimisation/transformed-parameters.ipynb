{
 "cells": [
  {
   "cell_type": "markdown",
   "metadata": {},
   "source": [
    "# Optimisation: Using Transformed Parameters\n",
    "\n",
    "This example shows you how to run a global optimisation with a transformed parameter space.\n",
    "\n",
    "For a more elaborate example of an optimisation, see: [basic optimisation example](./first-example.ipynb).\n",
    "\n",
    "First we will create a toy model which implements the logistic model."
   ]
  },
  {
   "cell_type": "code",
   "execution_count": 1,
   "metadata": {
    "collapsed": true
   },
   "outputs": [],
   "source": [
    "from __future__ import print_function\n",
    "import pints\n",
    "import pints.toy as toy\n",
    "import numpy as np\n",
    "import matplotlib.pyplot as pl\n",
    "import math\n",
    "\n",
    "model = toy.LogisticModel()"
   ]
  },
  {
   "cell_type": "markdown",
   "metadata": {},
   "source": [
    "The parameters for the toy logistic model are $[r, K]$, where $r$ is the rate and $K$ is the carrying capacity. We will create a wrapper pints model that assumes that the parameters are given as $(r, \\log(K)]$"
   ]
  },
  {
   "cell_type": "code",
   "execution_count": 2,
   "metadata": {
    "collapsed": true
   },
   "outputs": [],
   "source": [
    "class TransformedModel(pints.ForwardModel):\n",
    "    def __init__(self, model):\n",
    "        self._model = model\n",
    "    def n_parameters(self):\n",
    "        return self._model.n_parameters()\n",
    "    def simulate(self, parameters, times):\n",
    "        transformed_parameters = [parameters[0], math.exp(parameters[1])]\n",
    "        return self._model.simulate(transformed_parameters,times)\n",
    "\n",
    "transformed_model = TransformedModel(model)"
   ]
  },
  {
   "cell_type": "markdown",
   "metadata": {},
   "source": [
    "Now that we have our transformed model, we can use it in combination with all of pints' optimisation and inference algorithms. For now, we will use it to fit simulated data using CMA-ES:"
   ]
  },
  {
   "cell_type": "code",
   "execution_count": 3,
   "metadata": {},
   "outputs": [
    {
     "name": "stdout",
     "output_type": "stream",
     "text": [
      "Minimising error measure\n",
      "using Covariance Matrix Adaptation Evolution Strategy (CMA-ES)\n",
      "Running in sequential mode.\n",
      "Population size: 6\n",
      "Iter. Eval. Best      Time m:s\n",
      "0     6      3.47e+07   0:00.1\n",
      "1     12     3.46e+07   0:00.1\n",
      "2     18     3.4e+07    0:00.1\n",
      "3     24     3.39e+07   0:00.1\n",
      "20    126    4077706    0:00.1\n",
      "40    246    358305.2   0:00.2\n",
      "60    366    95402.77   0:00.2\n",
      "80    486    95402.77   0:00.2\n",
      "100   606    95402.77   0:00.3\n",
      "120   726    95402.77   0:00.3\n",
      "140   846    95402.77   0:00.4\n",
      "160   966    95402.77   0:00.4\n",
      "180   1086   95402.77   0:00.4\n",
      "200   1206   92522.28   0:00.5\n",
      "220   1326   92519.12   0:00.5\n",
      "240   1446   92519.12   0:00.6\n",
      "260   1566   92519.12   0:00.6\n",
      "280   1686   92519.12   0:00.6\n",
      "300   1806   92519.12   0:00.7\n",
      "320   1926   92519.12   0:00.7\n",
      "340   2046   92519.12   0:00.7\n",
      "360   2166   92519.12   0:00.8\n",
      "380   2286   92519.12   0:00.8\n",
      "400   2406   92519.12   0:00.9\n",
      "420   2526   92519.12   0:00.9\n",
      "440   2646   92519.12   0:01.0\n",
      "460   2766   92519.12   0:01.0\n",
      "480   2886   92519.12   0:01.1\n",
      "482   2892   92519.12   0:01.1\n",
      "Halting: No significant change for 200 iterations.\n",
      "Score at true solution: \n",
      "93162.3109415\n",
      "Found solution:          True parameters:\n",
      " 1.50473610420630947e-02     1.49999999999999994e-02\n",
      " 5.99762659416961963e+00     6.00000000000000000e+00\n"
     ]
    },
    {
     "data": {
      "image/png": "[encoded data removed]",
      "text/plain": [
       "<matplotlib.figure.Figure at 0x7f5ce1468908>"
      ]
     },
     "metadata": {},
     "output_type": "display_data"
    }
   ],
   "source": [
    "# Create some toy data\n",
    "real_parameters = [0.015, 6]\n",
    "times = np.linspace(0, 1000, 1000)\n",
    "values = transformed_model.simulate(real_parameters, times)\n",
    "\n",
    "# Add noise\n",
    "values += np.random.normal(0, 10, values.shape)\n",
    "\n",
    "# Create an object with links to the model and time series\n",
    "problem = pints.SingleOutputProblem(transformed_model, times, values)\n",
    "\n",
    "# Select a score function\n",
    "score = pints.SumOfSquaresError(problem)\n",
    "\n",
    "# Select some boundaries\n",
    "boundaries = pints.RectangularBoundaries([0, -6.0], [0.03, 20.0])\n",
    "\n",
    "# Perform an optimization with boundaries and hints\n",
    "x0 = 0.01,5.0\n",
    "sigma0 = [0.01, 2.0]\n",
    "found_parameters, found_value = pints.optimise(\n",
    "    score,\n",
    "    x0,\n",
    "    sigma0,\n",
    "    boundaries,\n",
    "    method=pints.CMAES,\n",
    ")\n",
    "\n",
    "# Show score of true solution\n",
    "print('Score at true solution: ')\n",
    "print(score(real_parameters))\n",
    "\n",
    "# Compare parameters with original\n",
    "print('Found solution:          True parameters:' )\n",
    "for k, x in enumerate(found_parameters):\n",
    "    print(pints.strfloat(x) + '    ' + pints.strfloat(real_parameters[k]))\n",
    "\n",
    "# Show quality of fit\n",
    "pl.figure()\n",
    "pl.xlabel('Time')\n",
    "pl.ylabel('Value')\n",
    "pl.plot(times, values, label='Nosiy data')\n",
    "pl.plot(times, problem.evaluate(found_parameters), label='Fit')\n",
    "pl.legend()\n",
    "pl.show()"
   ]
  }
 ],
 "metadata": {
  "kernelspec": {
   "display_name": "Python 2",
   "language": "python",
   "name": "python2"
  },
  "language_info": {
   "codemirror_mode": {
    "name": "ipython",
    "version": 3
   },
   "file_extension": ".py",
   "mimetype": "text/x-python",
   "name": "python",
   "nbconvert_exporter": "python",
   "pygments_lexer": "ipython3",
   "version": "3.6.4"
  }
 },
 "nbformat": 4,
 "nbformat_minor": 2
}

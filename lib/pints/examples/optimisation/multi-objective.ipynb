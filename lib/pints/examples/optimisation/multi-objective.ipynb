{
 "cells": [
  {
   "cell_type": "markdown",
   "metadata": {},
   "source": [
    "# Optimisation: Combining multiple error measures\n",
    "\n",
    "In this example, we show how a weighted sum of errors can be created and minimised using Pints. This problem can arise when some trade-off needs to be found between multiple objectives ([wiki](https://en.wikipedia.org/wiki/Multi-objective_optimization)), which typically leads to hard problems. In time-series modelling, these problems can also arise when there is data available from different experiments on the same system."
   ]
  },
  {
   "cell_type": "markdown",
   "metadata": {},
   "source": [
    "To simulate this, we'll load two copies of the [logistic model](../toy/model-logistic.ipynb), and run two simulations with the same parameters (the same system) but different initial conditions (a different experiment)."
   ]
  },
  {
   "cell_type": "code",
   "execution_count": 2,
   "metadata": {
    "scrolled": true
   },
   "outputs": [
    {
     "data": {
      "image/png": "[encoded data removed]",
      "text/plain": [
       "<Figure size 432x288 with 1 Axes>"
      ]
     },
     "metadata": {},
     "output_type": "display_data"
    }
   ],
   "source": [
    "from __future__ import print_function\n",
    "import pints\n",
    "import pints.toy as toy\n",
    "import numpy as np\n",
    "import matplotlib.pyplot as plt\n",
    "\n",
    "# Create two models with a different initial population size\n",
    "model_1 = toy.LogisticModel(initial_population_size=15)\n",
    "model_2 = toy.LogisticModel(initial_population_size=2)\n",
    "\n",
    "# Both models share a single set of parameters: it's the same system!\n",
    "real_parameters = model_1.suggested_parameters()\n",
    "\n",
    "# The two experiments were sampled at slightly different times\n",
    "times_1 = model_1.suggested_times()[::3]\n",
    "times_2 = model_2.suggested_times()[3::5]\n",
    "\n",
    "experiment_1 = model_1.simulate(real_parameters, times_1)\n",
    "experiment_2 = model_2.simulate(real_parameters, times_2)\n",
    "\n",
    "# And both experiments had different noise levels\n",
    "sigma_1 = 5\n",
    "experiment_1 += np.random.normal(0, sigma_1, size=times_1.shape)\n",
    "\n",
    "sigma_2 = 3\n",
    "experiment_2 += np.random.normal(0, sigma_2, size=times_2.shape)\n",
    "\n",
    "# Let's have a look!\n",
    "plt.figure()\n",
    "plt.plot(times_1, experiment_1, 'x', 'b')\n",
    "plt.plot(times_2, experiment_2, 'x', 'g')\n",
    "plt.show()"
   ]
  },
  {
   "cell_type": "markdown",
   "metadata": {},
   "source": [
    "To solve this, we now create two separate problems and define an error measure on each."
   ]
  },
  {
   "cell_type": "code",
   "execution_count": 3,
   "metadata": {},
   "outputs": [],
   "source": [
    "problem_1 = pints.SingleOutputProblem(model_1, times_1, experiment_1)\n",
    "problem_2 = pints.SingleOutputProblem(model_2, times_2, experiment_2)\n",
    "\n",
    "error_1 = pints.SumOfSquaresError(problem_1)\n",
    "error_2 = pints.SumOfSquaresError(problem_2)"
   ]
  },
  {
   "cell_type": "markdown",
   "metadata": {},
   "source": [
    "Next, we combine the two error functions in a [SumOfErrors](https://pints.readthedocs.io/en/latest/error_measures.html#pints.SumOfErrors).\n",
    "\n",
    "Note that we have the option to weight the different errors differently, for example to account for a different magnitude of the recoding in different experiments, or to compensate for different numbers of samples."
   ]
  },
  {
   "cell_type": "code",
   "execution_count": 4,
   "metadata": {},
   "outputs": [],
   "source": [
    "error = pints.SumOfErrors((error_1, error_2))"
   ]
  },
  {
   "cell_type": "markdown",
   "metadata": {},
   "source": [
    "Now that we have an error function, we proceed as usual:"
   ]
  },
  {
   "cell_type": "code",
   "execution_count": 5,
   "metadata": {},
   "outputs": [
    {
     "name": "stdout",
     "output_type": "stream",
     "text": [
      "[ 0.10140031 50.35153069]\n"
     ]
    }
   ],
   "source": [
    "opt = pints.Optimisation(error, [1, 40])\n",
    "opt.set_log_to_screen(False)\n",
    "x, f = opt.run()\n",
    "print(x)"
   ]
  },
  {
   "cell_type": "code",
   "execution_count": 6,
   "metadata": {},
   "outputs": [
    {
     "data": {
      "image/png": "[encoded data removed]",
      "text/plain": [
       "<Figure size 432x288 with 1 Axes>"
      ]
     },
     "metadata": {},
     "output_type": "display_data"
    }
   ],
   "source": [
    "# Now inspect the results\n",
    "plt.figure()\n",
    "plt.plot(times_1, experiment_1, 'x', 'b')\n",
    "plt.plot(times_2, experiment_2, 'x', 'g')\n",
    "plt.plot(times_1, problem_1.evaluate(x), 'b')\n",
    "plt.plot(times_2, problem_2.evaluate(x), 'g')\n",
    "plt.show()"
   ]
  }
 ],
 "metadata": {
  "kernelspec": {
   "display_name": "Python 2",
   "language": "python",
   "name": "python2"
  },
  "language_info": {
   "codemirror_mode": {
    "name": "ipython",
    "version": 3
   },
   "file_extension": ".py",
   "mimetype": "text/x-python",
   "name": "python",
   "nbconvert_exporter": "python",
   "pygments_lexer": "ipython3",
   "version": "3.6.8"
  }
 },
 "nbformat": 4,
 "nbformat_minor": 2
}

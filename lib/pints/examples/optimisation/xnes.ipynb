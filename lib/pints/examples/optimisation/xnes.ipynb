{
 "cells": [
  {
   "cell_type": "markdown",
   "metadata": {},
   "source": [
    "# Optimisation: xNES\n",
    "\n",
    "This example shows you how to run a global optimisation with [xNES](http://pints.readthedocs.io/en/latest/optimisers/xnes.html).\n",
    "\n",
    "For a more elaborate example of an optimisation, see: [basic optimisation example](./first-example.ipynb)."
   ]
  },
  {
   "cell_type": "code",
   "execution_count": 2,
   "metadata": {},
   "outputs": [
    {
     "name": "stdout",
     "output_type": "stream",
     "text": [
      "Minimising error measure\n",
      "using Exponential Natural Evolution Strategy (xNES)\n",
      "Running in sequential mode.\n",
      "Population size: 6\n",
      "Iter. Eval. Best      Time m:s\n",
      "0     6      2780827    0:00.0\n",
      "1     12     2780827    0:00.0\n",
      "2     18     1869945    0:00.0\n",
      "3     24     1455345    0:00.0\n",
      "20    126    90555.84   0:00.1\n",
      "40    246    90353.97   0:00.1\n",
      "60    366    90353.9    0:00.2\n",
      "80    486    90353.9    0:00.2\n",
      "100   606    90353.9    0:00.3\n",
      "120   726    90353.9    0:00.4\n",
      "140   846    90353.9    0:00.4\n",
      "160   966    90353.9    0:00.5\n",
      "180   1086   90353.9    0:00.6\n",
      "200   1206   90353.9    0:00.6\n",
      "220   1326   90353.9    0:00.7\n",
      "240   1446   90353.9    0:00.7\n",
      "260   1566   90353.9    0:00.8\n",
      "280   1686   90353.9    0:00.9\n",
      "300   1806   90353.9    0:01.0\n",
      "320   1926   90353.9    0:01.1\n",
      "340   2046   90353.9    0:01.1\n",
      "360   2166   90353.9    0:01.1\n",
      "380   2286   90353.9    0:01.2\n",
      "400   2406   90353.9    0:01.3\n",
      "420   2526   90353.9    0:01.3\n",
      "440   2646   90353.9    0:01.4\n",
      "460   2766   90353.9    0:01.5\n",
      "480   2886   90353.9    0:01.5\n",
      "500   3006   90353.9    0:01.6\n",
      "520   3126   90353.9    0:01.6\n",
      "540   3246   90353.9    0:01.7\n",
      "548   3288   90353.9    0:01.7\n",
      "Halting: No significant change for 200 iterations.\n",
      "Score at true solution: \n",
      "91162.4460941\n",
      "Found solution:          True parameters:\n",
      " 1.49542284064299764e-02     1.49999999999999994e-02\n",
      " 5.00898298576238972e+02     5.00000000000000000e+02\n"
     ]
    },
    {
     "data": {
      "image/png": "[encoded data removed]",
      "text/plain": [
       "<matplotlib.figure.Figure at 0x7fa8feaacac8>"
      ]
     },
     "metadata": {},
     "output_type": "display_data"
    }
   ],
   "source": [
    "from __future__ import print_function\n",
    "import pints\n",
    "import pints.toy as toy\n",
    "import numpy as np\n",
    "import matplotlib.pyplot as pl\n",
    "\n",
    "# Load a forward model\n",
    "model = toy.LogisticModel()\n",
    "\n",
    "# Create some toy data\n",
    "real_parameters = [0.015, 500]\n",
    "times = np.linspace(0, 1000, 1000)\n",
    "values = model.simulate(real_parameters, times)\n",
    "\n",
    "# Add noise\n",
    "values += np.random.normal(0, 10, values.shape)\n",
    "\n",
    "# Create an object with links to the model and time series\n",
    "problem = pints.SingleOutputProblem(model, times, values)\n",
    "\n",
    "# Select a score function\n",
    "score = pints.SumOfSquaresError(problem)\n",
    "\n",
    "# Select some boundaries\n",
    "boundaries = pints.RectangularBoundaries([0, 400], [0.03, 600])\n",
    "\n",
    "# Perform an optimization with boundaries and hints\n",
    "x0 = 0.011, 400\n",
    "sigma0 = [0.01, 100]\n",
    "found_parameters, found_value = pints.optimise(\n",
    "    score,\n",
    "    x0,\n",
    "    sigma0,\n",
    "    boundaries,\n",
    "    method=pints.XNES,\n",
    "    )\n",
    "\n",
    "# Show score of true solution\n",
    "print('Score at true solution: ')\n",
    "print(score(real_parameters))\n",
    "\n",
    "# Compare parameters with original\n",
    "print('Found solution:          True parameters:' )\n",
    "for k, x in enumerate(found_parameters):\n",
    "    print(pints.strfloat(x) + '    ' + pints.strfloat(real_parameters[k]))\n",
    "\n",
    "# Show quality of fit\n",
    "pl.figure()\n",
    "pl.xlabel('Time')\n",
    "pl.ylabel('Value')\n",
    "pl.plot(times, values, label='Nosiy data')\n",
    "pl.plot(times, problem.evaluate(found_parameters), label='Fit')\n",
    "pl.legend()\n",
    "pl.show()"
   ]
  }
 ],
 "metadata": {
  "kernelspec": {
   "display_name": "Python 2",
   "language": "python",
   "name": "python2"
  },
  "language_info": {
   "codemirror_mode": {
    "name": "ipython",
    "version": 3
   },
   "file_extension": ".py",
   "mimetype": "text/x-python",
   "name": "python",
   "nbconvert_exporter": "python",
   "pygments_lexer": "ipython3",
   "version": "3.6.4"
  }
 },
 "nbformat": 4,
 "nbformat_minor": 2
}

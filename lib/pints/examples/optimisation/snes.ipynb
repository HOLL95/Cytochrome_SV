{
 "cells": [
  {
   "cell_type": "markdown",
   "metadata": {},
   "source": [
    "# Optimisation: SNES\n",
    "\n",
    "This example shows you how to run a global optimisation with [SNES](http://pints.readthedocs.io/en/latest/optimisers/snes.html).\n",
    "\n",
    "For a more elaborate example of an optimisation, see: [basic optimisation example](./first-example.ipynb)."
   ]
  },
  {
   "cell_type": "code",
   "execution_count": 1,
   "metadata": {},
   "outputs": [
    {
     "name": "stdout",
     "output_type": "stream",
     "text": [
      "Minimising error measure\n",
      "using Seperable Natural Evolution Strategy (SNES)\n",
      "Running in sequential mode.\n",
      "Iter. Eval. Best      Time m:s\n",
      "0     6      1032189    0:03.3\n",
      "1     12     1032189    0:03.3\n",
      "2     18     1032189    0:03.3\n",
      "3     24     415890.9   0:03.3\n",
      "20    126    99951.86   0:03.3\n",
      "40    246    97790.04   0:03.3\n",
      "60    366    97712.96   0:03.4\n",
      "80    486    97712.92   0:03.4\n",
      "100   606    97712.92   0:03.4\n",
      "120   726    97712.92   0:03.4\n",
      "140   846    97712.92   0:03.4\n",
      "160   966    97712.92   0:03.4\n",
      "180   1086   97712.92   0:03.5\n",
      "200   1206   97712.92   0:03.5\n",
      "220   1326   97712.92   0:03.5\n",
      "240   1446   97712.92   0:03.5\n",
      "260   1566   97712.92   0:03.5\n",
      "280   1686   97712.92   0:03.5\n",
      "300   1806   97712.92   0:03.6\n",
      "320   1926   97712.92   0:03.6\n",
      "340   2046   97712.92   0:03.6\n",
      "360   2166   97712.92   0:03.6\n",
      "380   2286   97712.92   0:03.6\n",
      "381   2286   97712.92   0:03.6\n",
      "Halting: No significant change for 200 iterations.\n",
      "Score at true solution: \n",
      "97762.3046752\n",
      "Found solution:          True parameters:\n",
      " 1.49887429771769151e-02     1.49999999999999994e-02\n",
      " 5.00225855587396723e+02     5.00000000000000000e+02\n"
     ]
    },
    {
     "data": {
      "image/png": "[encoded data removed]",
      "text/plain": [
       "<matplotlib.figure.Figure at 0x7f72eec4d050>"
      ]
     },
     "metadata": {},
     "output_type": "display_data"
    }
   ],
   "source": [
    "from __future__ import print_function\n",
    "import pints\n",
    "import pints.toy as toy\n",
    "import numpy as np\n",
    "import matplotlib.pyplot as pl\n",
    "\n",
    "# Load a forward model\n",
    "model = toy.LogisticModel()\n",
    "\n",
    "# Create some toy data\n",
    "real_parameters = [0.015, 500]\n",
    "times = np.linspace(0, 1000, 1000)\n",
    "values = model.simulate(real_parameters, times)\n",
    "\n",
    "# Add noise\n",
    "values += np.random.normal(0, 10, values.shape)\n",
    "\n",
    "# Create an object with links to the model and time series\n",
    "problem = pints.SingleOutputProblem(model, times, values)\n",
    "\n",
    "# Select a score function\n",
    "score = pints.SumOfSquaresError(problem)\n",
    "\n",
    "# Select some boundaries\n",
    "boundaries = pints.RectangularBoundaries([0, 400], [0.03, 600])\n",
    "\n",
    "# Perform an optimization with boundaries and hints\n",
    "x0 = 0.01, 450\n",
    "sigma0 = [0.01, 100]\n",
    "found_parameters, found_value = pints.optimise(\n",
    "    score,\n",
    "    x0,\n",
    "    sigma0,\n",
    "    boundaries,\n",
    "    method=pints.SNES,\n",
    ")\n",
    "\n",
    "# Show score of true solution\n",
    "print('Score at true solution: ')\n",
    "print(score(real_parameters))\n",
    "\n",
    "# Compare parameters with original\n",
    "print('Found solution:          True parameters:' )\n",
    "for k, x in enumerate(found_parameters):\n",
    "    print(pints.strfloat(x) + '    ' + pints.strfloat(real_parameters[k]))\n",
    "\n",
    "# Show quality of fit\n",
    "pl.figure()\n",
    "pl.xlabel('Time')\n",
    "pl.ylabel('Value')\n",
    "pl.plot(times, values, label='Nosiy data')\n",
    "pl.plot(times, problem.evaluate(found_parameters), label='Fit')\n",
    "pl.legend()\n",
    "pl.show()"
   ]
  }
 ],
 "metadata": {
  "kernelspec": {
   "display_name": "Python 2",
   "language": "python",
   "name": "python2"
  },
  "language_info": {
   "codemirror_mode": {
    "name": "ipython",
    "version": 3
   },
   "file_extension": ".py",
   "mimetype": "text/x-python",
   "name": "python",
   "nbconvert_exporter": "python",
   "pygments_lexer": "ipython3",
   "version": "3.6.4"
  }
 },
 "nbformat": 4,
 "nbformat_minor": 2
}
